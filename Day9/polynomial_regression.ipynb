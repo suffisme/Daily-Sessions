{
 "cells": [
  {
   "cell_type": "code",
   "execution_count": 1,
   "metadata": {},
   "outputs": [],
   "source": [
    "import numpy as np\n",
    "import pandas as pd\n",
    "import matplotlib.pyplot as plt\n",
    "%matplotlib inline"
   ]
  },
  {
   "cell_type": "markdown",
   "metadata": {},
   "source": [
    "Manytimes we are not able to capture distribution of data using a linear function. Incase we need to try some other algorithms. Now lets try to capture data distribution using a polynomial function.\n",
    "\n",
    "Lets see polynomial regression model on a data having single feature first.\n",
    "## Univariate polynomial regression"
   ]
  },
  {
   "cell_type": "code",
   "execution_count": 2,
   "metadata": {},
   "outputs": [
    {
     "data": {
      "text/html": [
       "<div>\n",
       "<style scoped>\n",
       "    .dataframe tbody tr th:only-of-type {\n",
       "        vertical-align: middle;\n",
       "    }\n",
       "\n",
       "    .dataframe tbody tr th {\n",
       "        vertical-align: top;\n",
       "    }\n",
       "\n",
       "    .dataframe thead th {\n",
       "        text-align: right;\n",
       "    }\n",
       "</style>\n",
       "<table border=\"1\" class=\"dataframe\">\n",
       "  <thead>\n",
       "    <tr style=\"text-align: right;\">\n",
       "      <th></th>\n",
       "      <th>0</th>\n",
       "      <th>1</th>\n",
       "    </tr>\n",
       "  </thead>\n",
       "  <tbody>\n",
       "    <tr>\n",
       "      <td>0</td>\n",
       "      <td>32.502345</td>\n",
       "      <td>31.707006</td>\n",
       "    </tr>\n",
       "    <tr>\n",
       "      <td>1</td>\n",
       "      <td>53.426804</td>\n",
       "      <td>68.777596</td>\n",
       "    </tr>\n",
       "    <tr>\n",
       "      <td>2</td>\n",
       "      <td>61.530358</td>\n",
       "      <td>62.562382</td>\n",
       "    </tr>\n",
       "    <tr>\n",
       "      <td>3</td>\n",
       "      <td>47.475640</td>\n",
       "      <td>71.546632</td>\n",
       "    </tr>\n",
       "    <tr>\n",
       "      <td>4</td>\n",
       "      <td>59.813208</td>\n",
       "      <td>87.230925</td>\n",
       "    </tr>\n",
       "  </tbody>\n",
       "</table>\n",
       "</div>"
      ],
      "text/plain": [
       "           0          1\n",
       "0  32.502345  31.707006\n",
       "1  53.426804  68.777596\n",
       "2  61.530358  62.562382\n",
       "3  47.475640  71.546632\n",
       "4  59.813208  87.230925"
      ]
     },
     "execution_count": 2,
     "metadata": {},
     "output_type": "execute_result"
    }
   ],
   "source": [
    "data= pd.read_csv('data/data.csv', header= None)\n",
    "data.head()"
   ]
  },
  {
   "cell_type": "code",
   "execution_count": 3,
   "metadata": {},
   "outputs": [],
   "source": [
    "x= data[0].values.reshape(-1,1)\n",
    "y= data[1].values.reshape(1,-1)"
   ]
  },
  {
   "cell_type": "markdown",
   "metadata": {},
   "source": [
    "If we are directly using polynomial regression on the data; then by increasing the degree of features, features might blow up and its magnitude may become very large.\n",
    "\n",
    "To address this we can scale (normalize) the data.  Although there are several ways of normalizing the data, we will use a method for which we subtract the mean and divide by the standard deviation, as presented below:\n",
    "![](images/img5.png)"
   ]
  },
  {
   "cell_type": "code",
   "execution_count": 4,
   "metadata": {},
   "outputs": [],
   "source": [
    "x= (x-np.mean(x))/np.std(x)"
   ]
  },
  {
   "cell_type": "code",
   "execution_count": 5,
   "metadata": {},
   "outputs": [
    {
     "data": {
      "text/plain": [
       "<matplotlib.collections.PathCollection at 0x11b8322d0>"
      ]
     },
     "execution_count": 5,
     "metadata": {},
     "output_type": "execute_result"
    },
    {
     "data": {
      "image/png": "[encoded data removed]",
      "text/plain": [
       "<Figure size 432x288 with 1 Axes>"
      ]
     },
     "metadata": {
      "needs_background": "light"
     },
     "output_type": "display_data"
    }
   ],
   "source": [
    "plt.scatter(x,y)"
   ]
  },
  {
   "cell_type": "markdown",
   "metadata": {},
   "source": [
    "# Polynomial regression using NumPy"
   ]
  },
  {
   "cell_type": "code",
   "execution_count": 6,
   "metadata": {},
   "outputs": [
    {
     "data": {
      "text/plain": [
       "(100, 4)"
      ]
     },
     "execution_count": 6,
     "metadata": {},
     "output_type": "execute_result"
    }
   ],
   "source": [
    "## generating a new matrix after polynomial transformation\n",
    "degree= 3\n",
    "arr= x.copy()\n",
    "for i in range(2, degree+1):\n",
    "    arr= np.concatenate([arr, x**i], axis= 1)\n",
    "X= np.concatenate([np.ones((x.shape[0], 1)), arr], axis= 1)\n",
    "X.shape"
   ]
  },
  {
   "cell_type": "code",
   "execution_count": 7,
   "metadata": {},
   "outputs": [],
   "source": [
    "'''\n",
    "y= b + w1*x + w2*x2 + w3*x3\n",
    "here,\n",
    "x2= x**2\n",
    "x3= x**3\n",
    "\n",
    "or\n",
    "y= w*X.T\n",
    "'''\n",
    "\n",
    "w= np.random.rand(1,X.shape[1])"
   ]
  },
  {
   "cell_type": "code",
   "execution_count": 8,
   "metadata": {},
   "outputs": [
    {
     "data": {
      "text/plain": [
       "((1, 4), (100, 4), (1, 100))"
      ]
     },
     "execution_count": 8,
     "metadata": {},
     "output_type": "execute_result"
    }
   ],
   "source": [
    "w.shape, X.shape, y.shape\n",
    "# Once we got the required matrix, then we need to simply apply linear regression on newly generated matrix"
   ]
  },
  {
   "cell_type": "code",
   "execution_count": 9,
   "metadata": {},
   "outputs": [],
   "source": [
    "# training model just as we did in Linear regression\n",
    "alpha= 0.01\n",
    "num_iterations= 100\n",
    "m= X.shape[0]\n",
    "\n",
    "cost= []\n",
    "for i in range(num_iterations):\n",
    "    y_pred= np.dot(w, X.T)\n",
    "    error= np.mean((y-y_pred)**2)\n",
    "    grad= (-2/m)*np.dot(y-y_pred, X)\n",
    "    w= w- alpha*grad\n",
    "    cost.append(error)"
   ]
  },
  {
   "cell_type": "code",
   "execution_count": 10,
   "metadata": {
    "scrolled": true
   },
   "outputs": [
    {
     "data": {
      "text/plain": [
       "array([[ 64.67777441,  55.85427965,  83.71020536,  49.54617537,\n",
       "         75.6251785 ,  59.69401344,  53.72265929,  54.20828367,\n",
       "         49.75547856,  54.26891166,  49.51021771,  57.79988903,\n",
       "         49.93649066,  69.04487659,  64.16308446,  50.19695961,\n",
       "         49.72017099,  77.77589344,  49.47258047,  54.81819713,\n",
       "        112.47859508, 106.96934825,  49.54760237,  51.74575044,\n",
       "         53.17062105,  73.74609973,  66.04064853,  95.30137575,\n",
       "         49.42237096,  51.55091012,  53.74174202,  59.54448089,\n",
       "         51.01568685,  69.03046207,  66.69597491,  49.50588779,\n",
       "         85.60011229,  63.65660959,  58.18991419,  56.36439549,\n",
       "         49.76948341,  50.39732049,  51.06727641,  50.08114101,\n",
       "         91.65582252,  64.38899094,  53.18552681,  56.14703229,\n",
       "         62.34427401, 102.18578342,  55.74601307,  49.79034926,\n",
       "         52.71286806,  51.61440248,  52.16017566,  59.53233401,\n",
       "         51.93027385,  88.82200311,  50.36108169,  52.19663442,\n",
       "         52.11863682,  51.17460817,  53.98734277,  51.12591728,\n",
       "         62.71583182,  53.89356002,  62.37260333,  66.21463748,\n",
       "         77.64827789,  59.36937268,  66.27175682,  56.31985897,\n",
       "         49.41822403,  50.53247811, 147.49609311,  49.79421638,\n",
       "         66.69626691,  57.4458172 ,  61.45373903,  54.64107913,\n",
       "         64.71017726,  64.60771512,  61.55786155,  72.43311203,\n",
       "         67.67866807,  57.64410966,  52.16027989,  51.26885935,\n",
       "         49.91454498,  55.90325064,  63.92037963,  56.38226563,\n",
       "        133.0706254 ,  49.41051748, 129.24759169,  51.02748691,\n",
       "         50.38617766,  51.03614836,  49.77412688,  77.15727797]])"
      ]
     },
     "execution_count": 10,
     "metadata": {},
     "output_type": "execute_result"
    }
   ],
   "source": [
    "y_pred= np.dot(w, X.T)\n",
    "y_pred"
   ]
  },
  {
   "cell_type": "code",
   "execution_count": 11,
   "metadata": {},
   "outputs": [
    {
     "data": {
      "text/plain": [
       "396.8636770802597"
      ]
     },
     "execution_count": 11,
     "metadata": {},
     "output_type": "execute_result"
    }
   ],
   "source": [
    "error= np.mean((y-y_pred)**2)\n",
    "error"
   ]
  },
  {
   "cell_type": "code",
   "execution_count": 12,
   "metadata": {},
   "outputs": [
    {
     "data": {
      "image/png": "[encoded data removed]",
      "text/plain": [
       "<Figure size 432x288 with 1 Axes>"
      ]
     },
     "metadata": {
      "needs_background": "light"
     },
     "output_type": "display_data"
    }
   ],
   "source": [
    "# lets plot cost vs no of iterations\n",
    "plt.figure()\n",
    "plt.plot(np.arange(len(cost)), cost)\n",
    "plt.xlabel('no of iterations')\n",
    "plt.ylabel('cost')\n",
    "plt.show()"
   ]
  },
  {
   "cell_type": "markdown",
   "metadata": {},
   "source": [
    "## Multivariate polynomial regression\n",
    "Suppose we are given a dataset with 4 features (x<sub>1</sub>, x<sub>2</sub>, x<sub>3</sub>, x<sub>4</sub>) matrix and we want to apply polynomial regression of degree- 2. Then one way to do this problem is by using numpy and other way is to directly use sklearn library.\n",
    "\n",
    "Using NumPy, simply we can calculate all possible combination of x<sub>i</sub>y<sub>j</sub> for all i,j pairs and append it to the matrix of independent variables.\n",
    "\n",
    "or \n",
    "\n",
    "we can directly use sklearn library instead of NumPy for finding the required matrix"
   ]
  },
  {
   "cell_type": "code",
   "execution_count": 13,
   "metadata": {},
   "outputs": [
    {
     "data": {
      "text/html": [
       "<div>\n",
       "<style scoped>\n",
       "    .dataframe tbody tr th:only-of-type {\n",
       "        vertical-align: middle;\n",
       "    }\n",
       "\n",
       "    .dataframe tbody tr th {\n",
       "        vertical-align: top;\n",
       "    }\n",
       "\n",
       "    .dataframe thead th {\n",
       "        text-align: right;\n",
       "    }\n",
       "</style>\n",
       "<table border=\"1\" class=\"dataframe\">\n",
       "  <thead>\n",
       "    <tr style=\"text-align: right;\">\n",
       "      <th></th>\n",
       "      <th>feature1</th>\n",
       "      <th>feature2</th>\n",
       "      <th>feature3</th>\n",
       "      <th>feature4</th>\n",
       "      <th>y</th>\n",
       "    </tr>\n",
       "  </thead>\n",
       "  <tbody>\n",
       "    <tr>\n",
       "      <td>0</td>\n",
       "      <td>6.697568</td>\n",
       "      <td>5.358884</td>\n",
       "      <td>6.079641</td>\n",
       "      <td>6.005001</td>\n",
       "      <td>3.750561</td>\n",
       "    </tr>\n",
       "    <tr>\n",
       "      <td>1</td>\n",
       "      <td>18.937950</td>\n",
       "      <td>21.079310</td>\n",
       "      <td>21.378936</td>\n",
       "      <td>21.347908</td>\n",
       "      <td>7.212618</td>\n",
       "    </tr>\n",
       "    <tr>\n",
       "      <td>2</td>\n",
       "      <td>0.461901</td>\n",
       "      <td>0.758917</td>\n",
       "      <td>2.486963</td>\n",
       "      <td>2.308012</td>\n",
       "      <td>1.442524</td>\n",
       "    </tr>\n",
       "    <tr>\n",
       "      <td>3</td>\n",
       "      <td>5.080914</td>\n",
       "      <td>3.221526</td>\n",
       "      <td>5.206520</td>\n",
       "      <td>5.000960</td>\n",
       "      <td>1.442524</td>\n",
       "    </tr>\n",
       "    <tr>\n",
       "      <td>4</td>\n",
       "      <td>6.235667</td>\n",
       "      <td>7.867957</td>\n",
       "      <td>4.855840</td>\n",
       "      <td>5.167766</td>\n",
       "      <td>2.019533</td>\n",
       "    </tr>\n",
       "  </tbody>\n",
       "</table>\n",
       "</div>"
      ],
      "text/plain": [
       "    feature1   feature2   feature3   feature4         y\n",
       "0   6.697568   5.358884   6.079641   6.005001  3.750561\n",
       "1  18.937950  21.079310  21.378936  21.347908  7.212618\n",
       "2   0.461901   0.758917   2.486963   2.308012  1.442524\n",
       "3   5.080914   3.221526   5.206520   5.000960  1.442524\n",
       "4   6.235667   7.867957   4.855840   5.167766  2.019533"
      ]
     },
     "execution_count": 13,
     "metadata": {},
     "output_type": "execute_result"
    }
   ],
   "source": [
    "data= pd.read_csv('data/multi.csv')\n",
    "data.head()"
   ]
  },
  {
   "cell_type": "code",
   "execution_count": 14,
   "metadata": {},
   "outputs": [
    {
     "data": {
      "text/plain": [
       "((241978, 4), (241978, 1))"
      ]
     },
     "execution_count": 14,
     "metadata": {},
     "output_type": "execute_result"
    }
   ],
   "source": [
    "X= data[['feature1', 'feature2', 'feature3', 'feature4']].values\n",
    "y= data['y'].values\n",
    "y= y.reshape(-1,1)\n",
    "X.shape, y.shape"
   ]
  },
  {
   "cell_type": "code",
   "execution_count": 15,
   "metadata": {},
   "outputs": [
    {
     "data": {
      "text/plain": [
       "(241978, 15)"
      ]
     },
     "execution_count": 15,
     "metadata": {},
     "output_type": "execute_result"
    }
   ],
   "source": [
    "from sklearn.preprocessing import PolynomialFeatures\n",
    "poly= PolynomialFeatures(2)\n",
    "X= poly.fit_transform(X)\n",
    "X.shape"
   ]
  },
  {
   "cell_type": "code",
   "execution_count": 16,
   "metadata": {},
   "outputs": [
    {
     "data": {
      "text/html": [
       "<div>\n",
       "<style scoped>\n",
       "    .dataframe tbody tr th:only-of-type {\n",
       "        vertical-align: middle;\n",
       "    }\n",
       "\n",
       "    .dataframe tbody tr th {\n",
       "        vertical-align: top;\n",
       "    }\n",
       "\n",
       "    .dataframe thead th {\n",
       "        text-align: right;\n",
       "    }\n",
       "</style>\n",
       "<table border=\"1\" class=\"dataframe\">\n",
       "  <thead>\n",
       "    <tr style=\"text-align: right;\">\n",
       "      <th></th>\n",
       "      <th>0</th>\n",
       "      <th>1</th>\n",
       "      <th>2</th>\n",
       "      <th>3</th>\n",
       "      <th>4</th>\n",
       "      <th>5</th>\n",
       "      <th>6</th>\n",
       "      <th>7</th>\n",
       "      <th>8</th>\n",
       "      <th>9</th>\n",
       "      <th>10</th>\n",
       "      <th>11</th>\n",
       "      <th>12</th>\n",
       "      <th>13</th>\n",
       "      <th>14</th>\n",
       "    </tr>\n",
       "  </thead>\n",
       "  <tbody>\n",
       "    <tr>\n",
       "      <td>0</td>\n",
       "      <td>1.0</td>\n",
       "      <td>6.697568</td>\n",
       "      <td>5.358884</td>\n",
       "      <td>6.079641</td>\n",
       "      <td>6.005001</td>\n",
       "      <td>44.857415</td>\n",
       "      <td>35.891490</td>\n",
       "      <td>40.718805</td>\n",
       "      <td>40.218903</td>\n",
       "      <td>28.717639</td>\n",
       "      <td>32.580089</td>\n",
       "      <td>32.180106</td>\n",
       "      <td>36.962029</td>\n",
       "      <td>36.508249</td>\n",
       "      <td>36.060040</td>\n",
       "    </tr>\n",
       "    <tr>\n",
       "      <td>1</td>\n",
       "      <td>1.0</td>\n",
       "      <td>18.937950</td>\n",
       "      <td>21.079310</td>\n",
       "      <td>21.378936</td>\n",
       "      <td>21.347908</td>\n",
       "      <td>358.645969</td>\n",
       "      <td>399.198934</td>\n",
       "      <td>404.873234</td>\n",
       "      <td>404.285621</td>\n",
       "      <td>444.337320</td>\n",
       "      <td>450.653227</td>\n",
       "      <td>449.999172</td>\n",
       "      <td>457.058910</td>\n",
       "      <td>456.395557</td>\n",
       "      <td>455.733167</td>\n",
       "    </tr>\n",
       "    <tr>\n",
       "      <td>2</td>\n",
       "      <td>1.0</td>\n",
       "      <td>0.461901</td>\n",
       "      <td>0.758917</td>\n",
       "      <td>2.486963</td>\n",
       "      <td>2.308012</td>\n",
       "      <td>0.213353</td>\n",
       "      <td>0.350545</td>\n",
       "      <td>1.148731</td>\n",
       "      <td>1.066074</td>\n",
       "      <td>0.575955</td>\n",
       "      <td>1.887399</td>\n",
       "      <td>1.751590</td>\n",
       "      <td>6.184985</td>\n",
       "      <td>5.739940</td>\n",
       "      <td>5.326919</td>\n",
       "    </tr>\n",
       "    <tr>\n",
       "      <td>3</td>\n",
       "      <td>1.0</td>\n",
       "      <td>5.080914</td>\n",
       "      <td>3.221526</td>\n",
       "      <td>5.206520</td>\n",
       "      <td>5.000960</td>\n",
       "      <td>25.815682</td>\n",
       "      <td>16.368294</td>\n",
       "      <td>26.453877</td>\n",
       "      <td>25.409445</td>\n",
       "      <td>10.378228</td>\n",
       "      <td>16.772937</td>\n",
       "      <td>16.110721</td>\n",
       "      <td>27.107848</td>\n",
       "      <td>26.037596</td>\n",
       "      <td>25.009600</td>\n",
       "    </tr>\n",
       "    <tr>\n",
       "      <td>4</td>\n",
       "      <td>1.0</td>\n",
       "      <td>6.235667</td>\n",
       "      <td>7.867957</td>\n",
       "      <td>4.855840</td>\n",
       "      <td>5.167766</td>\n",
       "      <td>38.883538</td>\n",
       "      <td>49.061957</td>\n",
       "      <td>30.279400</td>\n",
       "      <td>32.224463</td>\n",
       "      <td>61.904749</td>\n",
       "      <td>38.205541</td>\n",
       "      <td>40.659757</td>\n",
       "      <td>23.579182</td>\n",
       "      <td>25.093843</td>\n",
       "      <td>26.705800</td>\n",
       "    </tr>\n",
       "  </tbody>\n",
       "</table>\n",
       "</div>"
      ],
      "text/plain": [
       "     0          1          2          3          4           5           6  \\\n",
       "0  1.0   6.697568   5.358884   6.079641   6.005001   44.857415   35.891490   \n",
       "1  1.0  18.937950  21.079310  21.378936  21.347908  358.645969  399.198934   \n",
       "2  1.0   0.461901   0.758917   2.486963   2.308012    0.213353    0.350545   \n",
       "3  1.0   5.080914   3.221526   5.206520   5.000960   25.815682   16.368294   \n",
       "4  1.0   6.235667   7.867957   4.855840   5.167766   38.883538   49.061957   \n",
       "\n",
       "            7           8           9          10          11          12  \\\n",
       "0   40.718805   40.218903   28.717639   32.580089   32.180106   36.962029   \n",
       "1  404.873234  404.285621  444.337320  450.653227  449.999172  457.058910   \n",
       "2    1.148731    1.066074    0.575955    1.887399    1.751590    6.184985   \n",
       "3   26.453877   25.409445   10.378228   16.772937   16.110721   27.107848   \n",
       "4   30.279400   32.224463   61.904749   38.205541   40.659757   23.579182   \n",
       "\n",
       "           13          14  \n",
       "0   36.508249   36.060040  \n",
       "1  456.395557  455.733167  \n",
       "2    5.739940    5.326919  \n",
       "3   26.037596   25.009600  \n",
       "4   25.093843   26.705800  "
      ]
     },
     "execution_count": 16,
     "metadata": {},
     "output_type": "execute_result"
    }
   ],
   "source": [
    "# lets see how our new matrix looks like\n",
    "pd.DataFrame(X).head()"
   ]
  },
  {
   "cell_type": "code",
   "execution_count": 17,
   "metadata": {},
   "outputs": [
    {
     "data": {
      "text/plain": [
       "LinearRegression(copy_X=True, fit_intercept=True, n_jobs=None, normalize=False)"
      ]
     },
     "execution_count": 17,
     "metadata": {},
     "output_type": "execute_result"
    }
   ],
   "source": [
    "# Now it has become the problem of multivariate linear regression\n",
    "# lets again use sklearn library for fitting linear regression model\n",
    "from sklearn.linear_model import LinearRegression\n",
    "lr= LinearRegression()\n",
    "lr.fit(X, y)"
   ]
  },
  {
   "cell_type": "code",
   "execution_count": 18,
   "metadata": {},
   "outputs": [
    {
     "data": {
      "text/plain": [
       "array([[4.43563725],\n",
       "       [8.03923327],\n",
       "       [0.98489164],\n",
       "       ...,\n",
       "       [0.72848347],\n",
       "       [0.7781869 ],\n",
       "       [0.42623368]])"
      ]
     },
     "execution_count": 18,
     "metadata": {},
     "output_type": "execute_result"
    }
   ],
   "source": [
    "y_pred= lr.predict(X)\n",
    "y_pred"
   ]
  },
  {
   "cell_type": "markdown",
   "metadata": {},
   "source": [
    "## End Notes\n",
    "Now how to decide the degree for the applying polynomial regression. Consider degree to be a hyperparameter and try out differnt values to find the best model.\n",
    "But if we are taking a polynomial with very high degree, then there are more chances that model will overfit to data. Lets see the meaning of Overfitting and Underfitting in next notebook."
   ]
  },
  {
   "cell_type": "code",
   "execution_count": null,
   "metadata": {},
   "outputs": [],
   "source": []
  }
 ],
 "metadata": {
  "kernelspec": {
   "display_name": "Python 3",
   "language": "python",
   "name": "python3"
  },
  "language_info": {
   "codemirror_mode": {
    "name": "ipython",
    "version": 3
   },
   "file_extension": ".py",
   "mimetype": "text/x-python",
   "name": "python",
   "nbconvert_exporter": "python",
   "pygments_lexer": "ipython3",
   "version": "3.7.4"
  }
 },
 "nbformat": 4,
 "nbformat_minor": 2
}
